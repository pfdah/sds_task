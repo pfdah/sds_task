{
 "cells": [
  {
   "cell_type": "code",
   "execution_count": 1,
   "metadata": {},
   "outputs": [],
   "source": [
    "# Library and Modular Imports\n",
    "import matplotlib.pyplot as plt\n",
    "import pickle\n",
    "import seaborn as sns\n",
    "from sklearn.metrics import accuracy_score, f1_score, confusion_matrix\n",
    "import time\n",
    "import torch\n",
    "from torch.utils.data import DataLoader\n",
    "\n",
    "# Self method Imports\n",
    "from custom_dataset import CustomOCRDataset\n",
    "from model import TextClassificationModel, train, evaluate\n",
    "from preprocess import preprocess, collate_batch"
   ]
  },
  {
   "cell_type": "markdown",
   "metadata": {},
   "source": [
    "#### Setting the Seed for reproducibility"
   ]
  },
  {
   "cell_type": "code",
   "execution_count": 2,
   "metadata": {},
   "outputs": [
    {
     "data": {
      "text/plain": [
       "<torch._C.Generator at 0x7fd17455dc50>"
      ]
     },
     "execution_count": 2,
     "metadata": {},
     "output_type": "execute_result"
    }
   ],
   "source": [
    "torch.manual_seed(5678)"
   ]
  },
  {
   "cell_type": "markdown",
   "metadata": {},
   "source": [
    "#### Preprocess the data\n",
    "This methods create the required csv, splits the data, builds the vocabulary and returns the training dataset"
   ]
  },
  {
   "cell_type": "code",
   "execution_count": 3,
   "metadata": {},
   "outputs": [],
   "source": [
    "train_dataset = preprocess()"
   ]
  },
  {
   "cell_type": "code",
   "execution_count": 4,
   "metadata": {},
   "outputs": [],
   "source": [
    "file = open('./vocab.pkl', 'rb')\n",
    "# dump information to that file\n",
    "vocab = pickle.load(file)\n",
    "# close the file\n",
    "file.close()"
   ]
  },
  {
   "cell_type": "code",
   "execution_count": 5,
   "metadata": {},
   "outputs": [],
   "source": [
    "vocab_size = len(vocab)\n",
    "model = TextClassificationModel(vocab_size)"
   ]
  },
  {
   "cell_type": "code",
   "execution_count": 6,
   "metadata": {},
   "outputs": [
    {
     "name": "stdout",
     "output_type": "stream",
     "text": [
      "-----------------------------------------------------------\n",
      "Training Accuracy:  0.1875\n",
      "| end of epoch   1 | time:  0.33s | valid accuracy    0.180 |\n",
      "-----------------------------------------------------------\n",
      "-----------------------------------------------------------\n",
      "Training Accuracy:  0.21875\n",
      "| end of epoch   2 | time:  0.31s | valid accuracy    0.170 |\n",
      "-----------------------------------------------------------\n",
      "-----------------------------------------------------------\n",
      "Training Accuracy:  0.234375\n",
      "| end of epoch   3 | time:  0.32s | valid accuracy    0.170 |\n",
      "-----------------------------------------------------------\n",
      "-----------------------------------------------------------\n",
      "Training Accuracy:  0.140625\n",
      "| end of epoch   4 | time:  0.30s | valid accuracy    0.350 |\n",
      "-----------------------------------------------------------\n",
      "-----------------------------------------------------------\n",
      "Training Accuracy:  0.390625\n",
      "| end of epoch   5 | time:  0.33s | valid accuracy    0.180 |\n",
      "-----------------------------------------------------------\n",
      "-----------------------------------------------------------\n",
      "Training Accuracy:  0.125\n",
      "| end of epoch   6 | time:  0.29s | valid accuracy    0.190 |\n",
      "-----------------------------------------------------------\n",
      "-----------------------------------------------------------\n",
      "Training Accuracy:  0.171875\n",
      "| end of epoch   7 | time:  0.30s | valid accuracy    0.470 |\n",
      "-----------------------------------------------------------\n",
      "-----------------------------------------------------------\n",
      "Training Accuracy:  0.453125\n",
      "| end of epoch   8 | time:  0.30s | valid accuracy    0.320 |\n",
      "-----------------------------------------------------------\n",
      "-----------------------------------------------------------\n",
      "Training Accuracy:  0.296875\n",
      "| end of epoch   9 | time:  0.29s | valid accuracy    0.450 |\n",
      "-----------------------------------------------------------\n",
      "-----------------------------------------------------------\n",
      "Training Accuracy:  0.34375\n",
      "| end of epoch  10 | time:  0.30s | valid accuracy    0.380 |\n",
      "-----------------------------------------------------------\n",
      "-----------------------------------------------------------\n",
      "Training Accuracy:  0.3125\n",
      "| end of epoch  11 | time:  0.30s | valid accuracy    0.420 |\n",
      "-----------------------------------------------------------\n",
      "-----------------------------------------------------------\n",
      "Training Accuracy:  0.34375\n",
      "| end of epoch  12 | time:  0.30s | valid accuracy    0.490 |\n",
      "-----------------------------------------------------------\n",
      "-----------------------------------------------------------\n",
      "Training Accuracy:  0.5\n",
      "| end of epoch  13 | time:  0.31s | valid accuracy    0.530 |\n",
      "-----------------------------------------------------------\n",
      "-----------------------------------------------------------\n",
      "Training Accuracy:  0.578125\n",
      "| end of epoch  14 | time:  0.31s | valid accuracy    0.540 |\n",
      "-----------------------------------------------------------\n",
      "-----------------------------------------------------------\n",
      "Training Accuracy:  0.46875\n",
      "| end of epoch  15 | time:  0.30s | valid accuracy    0.540 |\n",
      "-----------------------------------------------------------\n",
      "-----------------------------------------------------------\n",
      "Training Accuracy:  0.453125\n",
      "| end of epoch  16 | time:  0.31s | valid accuracy    0.600 |\n",
      "-----------------------------------------------------------\n",
      "-----------------------------------------------------------\n",
      "Training Accuracy:  0.46875\n",
      "| end of epoch  17 | time:  0.32s | valid accuracy    0.540 |\n",
      "-----------------------------------------------------------\n",
      "-----------------------------------------------------------\n",
      "Training Accuracy:  0.421875\n",
      "| end of epoch  18 | time:  0.29s | valid accuracy    0.590 |\n",
      "-----------------------------------------------------------\n",
      "-----------------------------------------------------------\n",
      "Training Accuracy:  0.4375\n",
      "| end of epoch  19 | time:  0.30s | valid accuracy    0.600 |\n",
      "-----------------------------------------------------------\n",
      "-----------------------------------------------------------\n",
      "Training Accuracy:  0.5\n",
      "| end of epoch  20 | time:  0.30s | valid accuracy    0.580 |\n",
      "-----------------------------------------------------------\n",
      "-----------------------------------------------------------\n",
      "Training Accuracy:  0.625\n",
      "| end of epoch  21 | time:  0.30s | valid accuracy    0.530 |\n",
      "-----------------------------------------------------------\n",
      "-----------------------------------------------------------\n",
      "Training Accuracy:  0.625\n",
      "| end of epoch  22 | time:  0.30s | valid accuracy    0.580 |\n",
      "-----------------------------------------------------------\n",
      "-----------------------------------------------------------\n",
      "Training Accuracy:  0.625\n",
      "| end of epoch  23 | time:  0.30s | valid accuracy    0.620 |\n",
      "-----------------------------------------------------------\n",
      "-----------------------------------------------------------\n",
      "Training Accuracy:  0.734375\n",
      "| end of epoch  24 | time:  0.29s | valid accuracy    0.610 |\n",
      "-----------------------------------------------------------\n",
      "-----------------------------------------------------------\n",
      "Training Accuracy:  0.6875\n",
      "| end of epoch  25 | time:  0.30s | valid accuracy    0.650 |\n",
      "-----------------------------------------------------------\n",
      "-----------------------------------------------------------\n",
      "Training Accuracy:  0.53125\n",
      "| end of epoch  26 | time:  0.31s | valid accuracy    0.610 |\n",
      "-----------------------------------------------------------\n",
      "-----------------------------------------------------------\n",
      "Training Accuracy:  0.53125\n",
      "| end of epoch  27 | time:  0.30s | valid accuracy    0.600 |\n",
      "-----------------------------------------------------------\n",
      "-----------------------------------------------------------\n",
      "Training Accuracy:  0.609375\n",
      "| end of epoch  28 | time:  0.29s | valid accuracy    0.650 |\n",
      "-----------------------------------------------------------\n",
      "-----------------------------------------------------------\n",
      "Training Accuracy:  0.640625\n",
      "| end of epoch  29 | time:  0.29s | valid accuracy    0.710 |\n",
      "-----------------------------------------------------------\n",
      "-----------------------------------------------------------\n",
      "Training Accuracy:  0.6875\n",
      "| end of epoch  30 | time:  0.30s | valid accuracy    0.700 |\n",
      "-----------------------------------------------------------\n",
      "-----------------------------------------------------------\n",
      "Training Accuracy:  0.75\n",
      "| end of epoch  31 | time:  0.29s | valid accuracy    0.710 |\n",
      "-----------------------------------------------------------\n",
      "-----------------------------------------------------------\n",
      "Training Accuracy:  0.703125\n",
      "| end of epoch  32 | time:  0.29s | valid accuracy    0.670 |\n",
      "-----------------------------------------------------------\n",
      "-----------------------------------------------------------\n",
      "Training Accuracy:  0.765625\n",
      "| end of epoch  33 | time:  0.29s | valid accuracy    0.610 |\n",
      "-----------------------------------------------------------\n",
      "-----------------------------------------------------------\n",
      "Training Accuracy:  0.703125\n",
      "| end of epoch  34 | time:  0.29s | valid accuracy    0.650 |\n",
      "-----------------------------------------------------------\n",
      "-----------------------------------------------------------\n",
      "Training Accuracy:  0.75\n",
      "| end of epoch  35 | time:  0.29s | valid accuracy    0.680 |\n",
      "-----------------------------------------------------------\n",
      "-----------------------------------------------------------\n",
      "Training Accuracy:  0.640625\n",
      "| end of epoch  36 | time:  0.29s | valid accuracy    0.670 |\n",
      "-----------------------------------------------------------\n",
      "-----------------------------------------------------------\n",
      "Training Accuracy:  0.828125\n",
      "| end of epoch  37 | time:  0.29s | valid accuracy    0.690 |\n",
      "-----------------------------------------------------------\n",
      "-----------------------------------------------------------\n",
      "Training Accuracy:  0.765625\n",
      "| end of epoch  38 | time:  0.30s | valid accuracy    0.700 |\n",
      "-----------------------------------------------------------\n",
      "-----------------------------------------------------------\n",
      "Training Accuracy:  0.734375\n",
      "| end of epoch  39 | time:  0.29s | valid accuracy    0.630 |\n",
      "-----------------------------------------------------------\n",
      "-----------------------------------------------------------\n",
      "Training Accuracy:  0.765625\n",
      "| end of epoch  40 | time:  0.29s | valid accuracy    0.560 |\n",
      "-----------------------------------------------------------\n",
      "-----------------------------------------------------------\n",
      "Training Accuracy:  0.6875\n",
      "| end of epoch  41 | time:  0.29s | valid accuracy    0.540 |\n",
      "-----------------------------------------------------------\n",
      "-----------------------------------------------------------\n",
      "Training Accuracy:  0.703125\n",
      "| end of epoch  42 | time:  0.29s | valid accuracy    0.590 |\n",
      "-----------------------------------------------------------\n",
      "-----------------------------------------------------------\n",
      "Training Accuracy:  0.71875\n",
      "| end of epoch  43 | time:  0.29s | valid accuracy    0.750 |\n",
      "-----------------------------------------------------------\n",
      "-----------------------------------------------------------\n",
      "Training Accuracy:  0.78125\n",
      "| end of epoch  44 | time:  0.28s | valid accuracy    0.730 |\n",
      "-----------------------------------------------------------\n",
      "-----------------------------------------------------------\n",
      "Training Accuracy:  0.796875\n",
      "| end of epoch  45 | time:  0.31s | valid accuracy    0.720 |\n",
      "-----------------------------------------------------------\n",
      "-----------------------------------------------------------\n",
      "Training Accuracy:  0.734375\n",
      "| end of epoch  46 | time:  0.30s | valid accuracy    0.730 |\n",
      "-----------------------------------------------------------\n",
      "-----------------------------------------------------------\n",
      "Training Accuracy:  0.84375\n",
      "| end of epoch  47 | time:  0.32s | valid accuracy    0.780 |\n",
      "-----------------------------------------------------------\n",
      "-----------------------------------------------------------\n",
      "Training Accuracy:  0.84375\n",
      "| end of epoch  48 | time:  0.31s | valid accuracy    0.690 |\n",
      "-----------------------------------------------------------\n",
      "-----------------------------------------------------------\n",
      "Training Accuracy:  0.875\n",
      "| end of epoch  49 | time:  0.31s | valid accuracy    0.650 |\n",
      "-----------------------------------------------------------\n",
      "-----------------------------------------------------------\n",
      "Training Accuracy:  0.75\n",
      "| end of epoch  50 | time:  0.30s | valid accuracy    0.690 |\n",
      "-----------------------------------------------------------\n",
      "-----------------------------------------------------------\n",
      "Training Accuracy:  0.8125\n",
      "| end of epoch  51 | time:  0.28s | valid accuracy    0.690 |\n",
      "-----------------------------------------------------------\n",
      "-----------------------------------------------------------\n",
      "Training Accuracy:  0.8125\n",
      "| end of epoch  52 | time:  0.29s | valid accuracy    0.700 |\n",
      "-----------------------------------------------------------\n",
      "-----------------------------------------------------------\n",
      "Training Accuracy:  0.8125\n",
      "| end of epoch  53 | time:  0.29s | valid accuracy    0.720 |\n",
      "-----------------------------------------------------------\n",
      "-----------------------------------------------------------\n",
      "Training Accuracy:  0.78125\n",
      "| end of epoch  54 | time:  0.29s | valid accuracy    0.760 |\n",
      "-----------------------------------------------------------\n",
      "-----------------------------------------------------------\n",
      "Training Accuracy:  0.828125\n",
      "| end of epoch  55 | time:  0.29s | valid accuracy    0.730 |\n",
      "-----------------------------------------------------------\n",
      "-----------------------------------------------------------\n",
      "Training Accuracy:  0.828125\n",
      "| end of epoch  56 | time:  0.29s | valid accuracy    0.750 |\n",
      "-----------------------------------------------------------\n",
      "-----------------------------------------------------------\n",
      "Training Accuracy:  0.8125\n",
      "| end of epoch  57 | time:  0.29s | valid accuracy    0.770 |\n",
      "-----------------------------------------------------------\n",
      "-----------------------------------------------------------\n",
      "Training Accuracy:  0.9375\n",
      "| end of epoch  58 | time:  0.30s | valid accuracy    0.720 |\n",
      "-----------------------------------------------------------\n",
      "-----------------------------------------------------------\n",
      "Training Accuracy:  0.75\n",
      "| end of epoch  59 | time:  0.30s | valid accuracy    0.660 |\n",
      "-----------------------------------------------------------\n",
      "-----------------------------------------------------------\n",
      "Training Accuracy:  0.8125\n",
      "| end of epoch  60 | time:  0.29s | valid accuracy    0.520 |\n",
      "-----------------------------------------------------------\n",
      "-----------------------------------------------------------\n",
      "Training Accuracy:  0.78125\n",
      "| end of epoch  61 | time:  0.30s | valid accuracy    0.500 |\n",
      "-----------------------------------------------------------\n",
      "-----------------------------------------------------------\n",
      "Training Accuracy:  0.796875\n",
      "| end of epoch  62 | time:  0.29s | valid accuracy    0.510 |\n",
      "-----------------------------------------------------------\n",
      "-----------------------------------------------------------\n",
      "Training Accuracy:  0.828125\n",
      "| end of epoch  63 | time:  0.30s | valid accuracy    0.550 |\n",
      "-----------------------------------------------------------\n",
      "-----------------------------------------------------------\n",
      "Training Accuracy:  0.796875\n",
      "| end of epoch  64 | time:  0.30s | valid accuracy    0.680 |\n",
      "-----------------------------------------------------------\n",
      "-----------------------------------------------------------\n",
      "Training Accuracy:  0.78125\n",
      "| end of epoch  65 | time:  0.31s | valid accuracy    0.760 |\n",
      "-----------------------------------------------------------\n",
      "-----------------------------------------------------------\n",
      "Training Accuracy:  0.875\n",
      "| end of epoch  66 | time:  0.29s | valid accuracy    0.730 |\n",
      "-----------------------------------------------------------\n",
      "-----------------------------------------------------------\n",
      "Training Accuracy:  0.78125\n",
      "| end of epoch  67 | time:  0.29s | valid accuracy    0.710 |\n",
      "-----------------------------------------------------------\n",
      "-----------------------------------------------------------\n",
      "Training Accuracy:  0.875\n",
      "| end of epoch  68 | time:  0.30s | valid accuracy    0.720 |\n",
      "-----------------------------------------------------------\n",
      "-----------------------------------------------------------\n",
      "Training Accuracy:  0.796875\n",
      "| end of epoch  69 | time:  0.30s | valid accuracy    0.680 |\n",
      "-----------------------------------------------------------\n",
      "-----------------------------------------------------------\n",
      "Training Accuracy:  0.921875\n",
      "| end of epoch  70 | time:  0.30s | valid accuracy    0.670 |\n",
      "-----------------------------------------------------------\n",
      "-----------------------------------------------------------\n",
      "Training Accuracy:  0.859375\n",
      "| end of epoch  71 | time:  0.30s | valid accuracy    0.670 |\n",
      "-----------------------------------------------------------\n",
      "-----------------------------------------------------------\n",
      "Training Accuracy:  0.953125\n",
      "| end of epoch  72 | time:  0.31s | valid accuracy    0.710 |\n",
      "-----------------------------------------------------------\n",
      "-----------------------------------------------------------\n",
      "Training Accuracy:  0.875\n",
      "| end of epoch  73 | time:  0.32s | valid accuracy    0.730 |\n",
      "-----------------------------------------------------------\n",
      "-----------------------------------------------------------\n",
      "Training Accuracy:  0.828125\n",
      "| end of epoch  74 | time:  0.32s | valid accuracy    0.740 |\n",
      "-----------------------------------------------------------\n",
      "-----------------------------------------------------------\n",
      "Training Accuracy:  0.90625\n",
      "| end of epoch  75 | time:  0.38s | valid accuracy    0.770 |\n",
      "-----------------------------------------------------------\n",
      "-----------------------------------------------------------\n",
      "Training Accuracy:  0.828125\n",
      "| end of epoch  76 | time:  0.34s | valid accuracy    0.750 |\n",
      "-----------------------------------------------------------\n",
      "-----------------------------------------------------------\n",
      "Training Accuracy:  0.890625\n",
      "| end of epoch  77 | time:  0.31s | valid accuracy    0.730 |\n",
      "-----------------------------------------------------------\n",
      "-----------------------------------------------------------\n",
      "Training Accuracy:  0.921875\n",
      "| end of epoch  78 | time:  0.30s | valid accuracy    0.720 |\n",
      "-----------------------------------------------------------\n",
      "-----------------------------------------------------------\n",
      "Training Accuracy:  0.8125\n",
      "| end of epoch  79 | time:  0.29s | valid accuracy    0.680 |\n",
      "-----------------------------------------------------------\n",
      "-----------------------------------------------------------\n",
      "Training Accuracy:  0.953125\n",
      "| end of epoch  80 | time:  0.30s | valid accuracy    0.690 |\n",
      "-----------------------------------------------------------\n",
      "-----------------------------------------------------------\n",
      "Training Accuracy:  0.859375\n",
      "| end of epoch  81 | time:  0.31s | valid accuracy    0.730 |\n",
      "-----------------------------------------------------------\n",
      "-----------------------------------------------------------\n",
      "Training Accuracy:  0.875\n",
      "| end of epoch  82 | time:  0.31s | valid accuracy    0.740 |\n",
      "-----------------------------------------------------------\n",
      "-----------------------------------------------------------\n",
      "Training Accuracy:  0.875\n",
      "| end of epoch  83 | time:  0.29s | valid accuracy    0.720 |\n",
      "-----------------------------------------------------------\n",
      "-----------------------------------------------------------\n",
      "Training Accuracy:  0.890625\n",
      "| end of epoch  84 | time:  0.31s | valid accuracy    0.720 |\n",
      "-----------------------------------------------------------\n",
      "-----------------------------------------------------------\n",
      "Training Accuracy:  0.953125\n",
      "| end of epoch  85 | time:  0.30s | valid accuracy    0.720 |\n",
      "-----------------------------------------------------------\n",
      "-----------------------------------------------------------\n",
      "Training Accuracy:  0.921875\n",
      "| end of epoch  86 | time:  0.31s | valid accuracy    0.750 |\n",
      "-----------------------------------------------------------\n",
      "-----------------------------------------------------------\n",
      "Training Accuracy:  0.953125\n",
      "| end of epoch  87 | time:  0.32s | valid accuracy    0.800 |\n",
      "-----------------------------------------------------------\n",
      "-----------------------------------------------------------\n",
      "Training Accuracy:  0.859375\n",
      "| end of epoch  88 | time:  0.33s | valid accuracy    0.840 |\n",
      "-----------------------------------------------------------\n",
      "-----------------------------------------------------------\n",
      "Training Accuracy:  0.890625\n",
      "| end of epoch  89 | time:  0.33s | valid accuracy    0.850 |\n",
      "-----------------------------------------------------------\n",
      "-----------------------------------------------------------\n",
      "Training Accuracy:  0.890625\n",
      "| end of epoch  90 | time:  0.30s | valid accuracy    0.820 |\n",
      "-----------------------------------------------------------\n",
      "-----------------------------------------------------------\n",
      "Training Accuracy:  0.875\n",
      "| end of epoch  91 | time:  0.30s | valid accuracy    0.820 |\n",
      "-----------------------------------------------------------\n",
      "-----------------------------------------------------------\n",
      "Training Accuracy:  0.796875\n",
      "| end of epoch  92 | time:  0.29s | valid accuracy    0.840 |\n",
      "-----------------------------------------------------------\n",
      "-----------------------------------------------------------\n",
      "Training Accuracy:  0.9375\n",
      "| end of epoch  93 | time:  0.31s | valid accuracy    0.810 |\n",
      "-----------------------------------------------------------\n",
      "-----------------------------------------------------------\n",
      "Training Accuracy:  0.859375\n",
      "| end of epoch  94 | time:  0.31s | valid accuracy    0.720 |\n",
      "-----------------------------------------------------------\n",
      "-----------------------------------------------------------\n",
      "Training Accuracy:  0.875\n",
      "| end of epoch  95 | time:  0.32s | valid accuracy    0.650 |\n",
      "-----------------------------------------------------------\n",
      "-----------------------------------------------------------\n",
      "Training Accuracy:  0.875\n",
      "| end of epoch  96 | time:  0.31s | valid accuracy    0.650 |\n",
      "-----------------------------------------------------------\n",
      "-----------------------------------------------------------\n",
      "Training Accuracy:  0.890625\n",
      "| end of epoch  97 | time:  0.31s | valid accuracy    0.690 |\n",
      "-----------------------------------------------------------\n",
      "-----------------------------------------------------------\n",
      "Training Accuracy:  0.875\n",
      "| end of epoch  98 | time:  0.30s | valid accuracy    0.720 |\n",
      "-----------------------------------------------------------\n",
      "-----------------------------------------------------------\n",
      "Training Accuracy:  0.953125\n",
      "| end of epoch  99 | time:  0.34s | valid accuracy    0.790 |\n",
      "-----------------------------------------------------------\n",
      "-----------------------------------------------------------\n",
      "Training Accuracy:  0.96875\n",
      "| end of epoch 100 | time:  0.38s | valid accuracy    0.770 |\n",
      "-----------------------------------------------------------\n"
     ]
    }
   ],
   "source": [
    "from torch.utils.data.dataset import random_split\n",
    "from torchtext.data.functional import to_map_style_dataset\n",
    "\n",
    "# Hyperparameters\n",
    "EPOCHS = 100  # epoch\n",
    "LR = 0.1  # learning rate\n",
    "BATCH_SIZE = 64  # batch size for training\n",
    "\n",
    "criterion = torch.nn.CrossEntropyLoss()\n",
    "optimizer = torch.optim.Adam(model.parameters(), lr=LR)\n",
    "\n",
    "train_iter = iter(train_dataset)\n",
    "train_dataset = to_map_style_dataset(train_iter)\n",
    "num_train = int(len(train_dataset) * 0.95)\n",
    "split_train_, split_valid_ = random_split(\n",
    "    train_dataset, [num_train, len(train_dataset) - num_train]\n",
    ")\n",
    "\n",
    "train_dataloader = DataLoader(\n",
    "    split_train_, batch_size=BATCH_SIZE, shuffle=True, collate_fn=collate_batch\n",
    ")\n",
    "valid_dataloader = DataLoader(\n",
    "    split_valid_, batch_size=BATCH_SIZE, shuffle=True, collate_fn=collate_batch\n",
    ")\n",
    "training_accuracy = []\n",
    "validation_accuracy = []\n",
    "for epoch in range(1, EPOCHS + 1):\n",
    "    epoch_start_time = time.time()\n",
    "    accu_train = train(train_dataloader, model, optimizer, criterion, epoch)\n",
    "    accu_val,truth_dict = evaluate(valid_dataloader, model, criterion)\n",
    "    print(\"-\" * 59)\n",
    "    print(\"Training Accuracy: \", accu_train)\n",
    "    training_accuracy.append(accu_train)\n",
    "    print(\n",
    "        \"| end of epoch {:3d} | time: {:5.2f}s | \"\n",
    "        \"valid accuracy {:8.3f} |\".format(\n",
    "            epoch, time.time() - epoch_start_time, accu_val\n",
    "        )\n",
    "    )\n",
    "    validation_accuracy.append(accu_val)\n",
    "    print(\"-\" * 59)"
   ]
  },
  {
   "cell_type": "code",
   "execution_count": 7,
   "metadata": {},
   "outputs": [
    {
     "data": {
      "image/png": "[encoded data removed]",
      "text/plain": [
       "<Figure size 640x480 with 1 Axes>"
      ]
     },
     "metadata": {},
     "output_type": "display_data"
    }
   ],
   "source": [
    "epochs=[i+1 for i in range(100)]\n",
    "\n",
    "plt.plot(epochs, training_accuracy)\n",
    "\n",
    "plt.xlabel('Epochs')\n",
    "plt.ylabel('Accuracy')\n",
    "plt.title('The Training Accuracy')\n",
    "\n",
    "# Show the plot\n",
    "plt.show()"
   ]
  },
  {
   "cell_type": "code",
   "execution_count": 8,
   "metadata": {},
   "outputs": [
    {
     "data": {
      "image/png": "[encoded data removed]",
      "text/plain": [
       "<Figure size 640x480 with 1 Axes>"
      ]
     },
     "metadata": {},
     "output_type": "display_data"
    }
   ],
   "source": [
    "epochs=[i+1 for i in range(100)]\n",
    "\n",
    "plt.plot(epochs, validation_accuracy)\n",
    "\n",
    "plt.xlabel('Epochs')\n",
    "plt.ylabel('Accuracy')\n",
    "plt.title('The Validation Accuracy')\n",
    "\n",
    "# Show the plot\n",
    "plt.show()"
   ]
  },
  {
   "cell_type": "markdown",
   "metadata": {},
   "source": [
    "### Saving and Loading the Model"
   ]
  },
  {
   "cell_type": "markdown",
   "metadata": {},
   "source": [
    "#### Save the trained model"
   ]
  },
  {
   "cell_type": "code",
   "execution_count": 9,
   "metadata": {},
   "outputs": [],
   "source": [
    "torch.save(model,'./model/trained_model.pth')"
   ]
  },
  {
   "cell_type": "markdown",
   "metadata": {},
   "source": [
    "#### Load the saved model"
   ]
  },
  {
   "cell_type": "code",
   "execution_count": 10,
   "metadata": {},
   "outputs": [
    {
     "data": {
      "text/plain": [
       "TextClassificationModel(\n",
       "  (embedding): EmbeddingBag(106256, 64, mode='mean')\n",
       "  (fc): Linear(in_features=64, out_features=10, bias=True)\n",
       "  (relu): ReLU(inplace=True)\n",
       "  (fc2): Linear(in_features=10, out_features=5, bias=True)\n",
       "  (relu2): ReLU(inplace=True)\n",
       "  (fc3): Linear(in_features=5, out_features=2, bias=True)\n",
       "  (fc4): Linear(in_features=2, out_features=5, bias=True)\n",
       ")"
      ]
     },
     "execution_count": 10,
     "metadata": {},
     "output_type": "execute_result"
    }
   ],
   "source": [
    "# Load the saved model\n",
    "loaded_model = torch.load('./model/trained_model.pth')\n",
    "loaded_model.eval()  # Set the model to evaluation mode if needed"
   ]
  },
  {
   "cell_type": "markdown",
   "metadata": {},
   "source": [
    "### Testing the Model"
   ]
  },
  {
   "cell_type": "markdown",
   "metadata": {},
   "source": [
    "#### Creating the Test Dataset and Data Loader"
   ]
  },
  {
   "cell_type": "code",
   "execution_count": 11,
   "metadata": {},
   "outputs": [],
   "source": [
    "test_dataset = CustomOCRDataset('./test_dataset.csv')\n",
    "test_iter = iter(test_dataset)\n",
    "test_dataset = to_map_style_dataset(test_iter)"
   ]
  },
  {
   "cell_type": "code",
   "execution_count": 12,
   "metadata": {},
   "outputs": [],
   "source": [
    "test_dataloader = DataLoader(\n",
    "    test_dataset, batch_size=BATCH_SIZE, shuffle=True, collate_fn=collate_batch\n",
    ")"
   ]
  },
  {
   "cell_type": "markdown",
   "metadata": {},
   "source": [
    "#### Evaluation of the Model"
   ]
  },
  {
   "cell_type": "code",
   "execution_count": 13,
   "metadata": {},
   "outputs": [],
   "source": [
    "accuracy, truth_dict = evaluate(test_dataloader, model, criterion)"
   ]
  },
  {
   "cell_type": "code",
   "execution_count": 14,
   "metadata": {},
   "outputs": [
    {
     "data": {
      "text/plain": [
       "0.746"
      ]
     },
     "execution_count": 14,
     "metadata": {},
     "output_type": "execute_result"
    }
   ],
   "source": [
    "accuracy_score(truth_dict[\"Predicted\"],truth_dict[\"True\"])"
   ]
  },
  {
   "cell_type": "code",
   "execution_count": 15,
   "metadata": {},
   "outputs": [
    {
     "data": {
      "text/plain": [
       "array([0.69076305, 0.9375    , 0.64968153, 0.79411765, 0.65656566])"
      ]
     },
     "execution_count": 15,
     "metadata": {},
     "output_type": "execute_result"
    }
   ],
   "source": [
    "f1_score(truth_dict[\"Predicted\"],truth_dict[\"True\"], average=None)"
   ]
  },
  {
   "cell_type": "code",
   "execution_count": 16,
   "metadata": {},
   "outputs": [
    {
     "data": {
      "text/plain": [
       "<Axes: >"
      ]
     },
     "execution_count": 16,
     "metadata": {},
     "output_type": "execute_result"
    },
    {
     "data": {
      "image/png": "[encoded data removed]",
      "text/plain": [
       "<Figure size 640x480 with 2 Axes>"
      ]
     },
     "metadata": {},
     "output_type": "display_data"
    }
   ],
   "source": [
    "sns.heatmap(confusion_matrix(truth_dict[\"True\"], truth_dict[\"Predicted\"]), annot=True)"
   ]
  },
  {
   "cell_type": "markdown",
   "metadata": {},
   "source": [
    "The model showed 74% accuracy in the test data"
   ]
  },
  {
   "cell_type": "markdown",
   "metadata": {},
   "source": [
    "#### Verifying Evaluation in Loaded model"
   ]
  },
  {
   "cell_type": "code",
   "execution_count": 17,
   "metadata": {},
   "outputs": [],
   "source": [
    "accuracy, truth_dict = evaluate(test_dataloader, loaded_model, criterion)"
   ]
  },
  {
   "cell_type": "code",
   "execution_count": 18,
   "metadata": {},
   "outputs": [
    {
     "data": {
      "text/plain": [
       "0.746"
      ]
     },
     "execution_count": 18,
     "metadata": {},
     "output_type": "execute_result"
    }
   ],
   "source": [
    "accuracy_score(truth_dict[\"Predicted\"],truth_dict[\"True\"])"
   ]
  },
  {
   "cell_type": "code",
   "execution_count": 19,
   "metadata": {},
   "outputs": [
    {
     "data": {
      "text/plain": [
       "array([0.69076305, 0.9375    , 0.64968153, 0.79411765, 0.65656566])"
      ]
     },
     "execution_count": 19,
     "metadata": {},
     "output_type": "execute_result"
    }
   ],
   "source": [
    "f1_score(truth_dict[\"Predicted\"],truth_dict[\"True\"], average=None)"
   ]
  },
  {
   "cell_type": "code",
   "execution_count": 20,
   "metadata": {},
   "outputs": [
    {
     "data": {
      "text/plain": [
       "<Axes: >"
      ]
     },
     "execution_count": 20,
     "metadata": {},
     "output_type": "execute_result"
    },
    {
     "data": {
      "image/png": "[encoded data removed]",
      "text/plain": [
       "<Figure size 640x480 with 2 Axes>"
      ]
     },
     "metadata": {},
     "output_type": "display_data"
    }
   ],
   "source": [
    "sns.heatmap(confusion_matrix(truth_dict[\"True\"], truth_dict[\"Predicted\"]), annot=True)"
   ]
  },
  {
   "cell_type": "markdown",
   "metadata": {},
   "source": [
    "The loaded model also showed the same metrics, this implies the model was saved correctly without the loss of information"
   ]
  }
 ],
 "metadata": {
  "kernelspec": {
   "display_name": "task_env",
   "language": "python",
   "name": "python3"
  },
  "language_info": {
   "codemirror_mode": {
    "name": "ipython",
    "version": 3
   },
   "file_extension": ".py",
   "mimetype": "text/x-python",
   "name": "python",
   "nbconvert_exporter": "python",
   "pygments_lexer": "ipython3",
   "version": "3.10.12"
  },
  "orig_nbformat": 4
 },
 "nbformat": 4,
 "nbformat_minor": 2
}
